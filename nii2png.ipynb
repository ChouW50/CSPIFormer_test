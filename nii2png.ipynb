{
 "cells": [
  {
   "cell_type": "markdown",
   "metadata": {},
   "source": [
    "## nii to png"
   ]
  },
  {
   "cell_type": "code",
   "execution_count": 3,
   "metadata": {},
   "outputs": [],
   "source": [
    "import nibabel as nib\n",
    "import numpy as np\n",
    "import SimpleITK as sitk\n",
    "import matplotlib.pyplot as plt\n",
    "import os, cv2\n",
    "from pathlib import Path\n",
    "# name = 'TrainValid_Image\\\\1_Train,Valid_Image\\\\'\n",
    "name_m = 'TrainValid_Mask\\\\2_Train,Valid_Mask\\\\'\n",
    "name = 'Test1_Image\\\\3_Test1_Image\\\\'\n",
    "Image_path = f'.\\\\dataset\\\\input_img\\\\aocr2024\\\\{name}'\n",
    "mask_path = f'.\\\\dataset\\\\input_img\\\\aocr2024\\\\{name_m}'\n",
    "\n",
    "Image_f = os.listdir(Image_path)\n",
    "mask_f = os.listdir(mask_path)\n",
    "name_f = Path(Image_f[0]).stem\n",
    "\n",
    "path = f'.\\\\dataset\\\\input_img\\\\aocr2024\\\\aocr2024dataset\\\\'\n",
    "\n",
    "if not os.path.isdir(path):\n",
    "    os.mkdir(path)"
   ]
  },
  {
   "cell_type": "code",
   "execution_count": 4,
   "metadata": {},
   "outputs": [],
   "source": [
    "for i in range(len(Image_f)):\n",
    "    image = sitk.ReadImage(Image_path + Image_f[i])\n",
    "    # mask = sitk.ReadImage(mask_path + mask_f[i])\n",
    "\n",
    "    img_arr = sitk.GetArrayFromImage(image)\n",
    "    # mask_arr = sitk.GetArrayFromImage(mask)\n",
    "\n",
    "    name_f = Path(Image_f[i]).stem\n",
    "    save_path = path + name_f\n",
    "\n",
    "    if not os.path.isdir(save_path):\n",
    "        os.mkdir(save_path)\n",
    "    if not os.path.isdir(save_path + '/Image/'):\n",
    "        os.mkdir(save_path + '/Image/')\n",
    "    # if not os.path.isdir(save_path + '/mask/'):\n",
    "    #     os.mkdir(save_path + '/mask/')\n",
    "\n",
    "\n",
    "    for idx in range(img_arr.shape[0]):\n",
    "        fname = str(idx).zfill(3) + '.png'\n",
    "\n",
    "        plt.imsave(os.path.join(save_path + '/Image/',fname), img_arr[idx], cmap = 'gray')\n",
    "        # plt.imsave(os.path.join(save_path + '/mask/',fname), mask_arr[idx], cmap = 'gray')"
   ]
  },
  {
   "cell_type": "markdown",
   "metadata": {},
   "source": [
    "## Test Dataset Load"
   ]
  },
  {
   "cell_type": "code",
   "execution_count": 7,
   "metadata": {},
   "outputs": [],
   "source": [
    "import csv, shutil, os\n",
    "csv_path = '.\\\\dataset\\\\input_img\\\\aocr2024\\\\TrainValid_ground_truth.csv'\n",
    "path = '.\\\\dataset\\\\input_img\\\\aocr2024\\\\aocr2024dataset\\\\'\n",
    "total_path = os.listdir(path)\n",
    "move_path = '.\\\\dataset\\\\input_img\\\\aocr2024\\\\test\\\\'\n",
    "for img_type in total_path:\n",
    "    each_path = os.listdir(f\"{path}{img_type}\\\\Image\\\\\")\n",
    "    for img in each_path:\n",
    "        p = f\"{path}{img_type}\\\\Image\\\\{img}\"\n",
    "        save_p = f\"{move_path}{img_type[:-4]}_{int(img[:3])}.png\"\n",
    "        shutil.copyfile(p, save_p)\n"
   ]
  },
  {
   "cell_type": "markdown",
   "metadata": {},
   "source": [
    "### Split Train & Validation dataset"
   ]
  },
  {
   "cell_type": "code",
   "execution_count": 1,
   "metadata": {},
   "outputs": [],
   "source": [
    "import csv, shutil\n",
    "def file_copy(path, save_path, file_type, file_num, K, dic):\n",
    "    file_split = {}\n",
    "    read = csv.reader(open('.\\\\dataset\\\\input_img\\\\aocr2024\\\\TrainValid_split.csv', 'r'))\n",
    "    for id, label, group in read:\n",
    "        file_split[id] = group\n",
    "    for i in range(len(file_type)):\n",
    "        if file_split[file_type[i]] == 'Train':\n",
    "            save_p = f'{save_path}train\\\\{dic[K]}\\\\'\n",
    "        elif file_split[file_type[i]] == 'Valid':\n",
    "            save_p = f'{save_path}val\\\\{dic[K]}\\\\'\n",
    "        else:\n",
    "            print('error')\n",
    "            continue\n",
    "        save_p = f'{save_p}{file_type[i]}_{file_num[i]}.png'\n",
    "        p = f'{path}{file_type[i]}.nii\\\\Image\\\\{file_num[i]:03d}.png'\n",
    "        shutil.copyfile(p, save_p)\n",
    "            "
   ]
  },
  {
   "cell_type": "code",
   "execution_count": 2,
   "metadata": {},
   "outputs": [],
   "source": [
    "csv_path = '.\\\\dataset\\\\input_img\\\\aocr2024\\\\TrainValid_ground_truth.csv'\n",
    "path = '.\\\\dataset\\\\input_img\\\\aocr2024\\\\aocr2024dataset_1\\\\'\n",
    "move_path = '.\\\\dataset\\\\input_img\\\\aocr2024\\\\'\n",
    "dict = {1: 'appendicitis', 2: 'normal'}\n",
    "read_csv = csv.reader(open(csv_path, 'r'))\n",
    "positive_nm, positive_num, negative_nm, negative_num = [], [], [], []\n",
    "for id, label in read_csv:\n",
    "    if label == '1' and ('_' in id):\n",
    "        index = id.index('_')\n",
    "        positive_nm.append(id[:index])\n",
    "        positive_num.append(int(id[index+1:]))\n",
    "    elif label == '0' and ('_' in id):\n",
    "        index = id.index('_')\n",
    "        negative_nm.append(id[:index])\n",
    "        negative_num.append(int(id[index+1:]))\n",
    "file_copy(path, move_path, positive_nm, positive_num, 1, dict)\n",
    "file_copy(path, move_path, negative_nm, negative_num, 2, dict)"
   ]
  },
  {
   "cell_type": "markdown",
   "metadata": {},
   "source": [
    "### Train & Validation dataset of mask"
   ]
  },
  {
   "cell_type": "code",
   "execution_count": 8,
   "metadata": {},
   "outputs": [],
   "source": [
    "import shutil, os\n",
    "load_name, save_name = ['train_seg', 'val_seg'], ['train_mask', 'val_mask']\n",
    "from util.tool import CreateNF\n",
    "for i in range(len(load_name)):\n",
    "    load_path = f'.\\\\dataset\\\\input_img\\\\aocr2024\\\\{load_name[i]}\\\\'\n",
    "    move_path = f'.\\\\dataset\\\\input_img\\\\aocr2024\\\\{save_name[i]}\\\\'\n",
    "    CreateNF(move_path)\n",
    "    total_name = os.listdir(load_path)\n",
    "    for nm in total_name:\n",
    "        name, number = nm.split('_')[0], int(nm.split('_')[1].split('.')[0])\n",
    "        check_path = f'.\\\\dataset\\\\input_img\\\\aocr2024\\\\aocr2024dataset_1\\\\{name}.nii\\\\mask\\\\{number:03d}.png'\n",
    "        m_path = f'{move_path}{nm}'\n",
    "        shutil.copyfile(check_path, m_path)"
   ]
  },
  {
   "cell_type": "markdown",
   "metadata": {},
   "source": [
    "### change color range ( 32 to 24 or 8 bits)"
   ]
  },
  {
   "cell_type": "code",
   "execution_count": 4,
   "metadata": {},
   "outputs": [],
   "source": [
    "from PIL import Image\n",
    "import os\n",
    "from util.tool import CreateNF\n",
    "# load_name, save_name = ['train_seg', 'val_seg'], ['train_seg_8bits', 'val_seg_8bits']\n",
    "load_name, save_name = ['train_mask_24bits', 'val_mask_24bits'], ['train_mask_8bits', 'val_mask_8bits']\n",
    "for i in range(len(load_name)):\n",
    "    load_path = f'.\\\\dataset\\\\input_img\\\\aocr2024\\\\{load_name[i]}\\\\'\n",
    "    move_path = f'.\\\\dataset\\\\input_img\\\\aocr2024\\\\{save_name[i]}\\\\'\n",
    "    CreateNF(move_path)\n",
    "    total_img_name = os.listdir(load_path)\n",
    "    for nm in total_img_name:\n",
    "        img = Image.open(f'{load_path}{nm}')\n",
    "        # 32 bits to 24 bits\n",
    "        # img = img.convert('RGB')\n",
    "        # 24 bits to 8 bits\n",
    "        img = img.convert('P', palette = Image.ADAPTIVE)\n",
    "        # 32 bits to 8 bits\n",
    "        # img = img.convert('P', palette = Image.ADAPTIVE, colors = 16)\n",
    "        img.save(f'{move_path}{nm}')"
   ]
  },
  {
   "cell_type": "markdown",
   "metadata": {},
   "source": [
    "### change color range (32 bits)"
   ]
  },
  {
   "cell_type": "code",
   "execution_count": 3,
   "metadata": {},
   "outputs": [],
   "source": [
    "from PIL import Image\n",
    "import os\n",
    "import numpy as np\n",
    "from util.tool import CreateNF\n",
    "load_name, save_name = ['train_seg_ori', 'val_seg_ori'], ['train_seg_32bits', 'val_seg_32bits']\n",
    "for i in range(len(load_name)):\n",
    "    load_path = f'.\\\\dataset\\\\input_img\\\\aocr2024\\\\{load_name[i]}\\\\'\n",
    "    move_path = f'.\\\\dataset\\\\input_img\\\\aocr2024\\\\{save_name[i]}\\\\'\n",
    "    CreateNF(move_path)\n",
    "    total_img_name = os.listdir(load_path)\n",
    "    for nm in total_img_name:\n",
    "        img = Image.open(f'{load_path}{nm}')\n",
    "        img = img.convert('RGB')\n",
    "        img.save(f'{move_path}{nm}')\n"
   ]
  },
  {
   "cell_type": "code",
   "execution_count": null,
   "metadata": {},
   "outputs": [],
   "source": []
  },
  {
   "cell_type": "markdown",
   "metadata": {},
   "source": [
    "### 0 1 change"
   ]
  },
  {
   "cell_type": "code",
   "execution_count": 1,
   "metadata": {},
   "outputs": [],
   "source": [
    "import csv\n",
    "input_path = '.\\\\dataset\\\\input_img\\\\aocr2024\\\\csv_result_updated\\\\'\n",
    "updated_rows = []\n",
    "with open(f'{input_path}AOCR2024_test_results.csv', mode='r', newline='') as file:\n",
    "    reader = csv.reader(file)\n",
    "    for row in reader:\n",
    "        if '_' in row[0]:\n",
    "            if row[1] == '1':\n",
    "                row[1] = 0\n",
    "            elif row[1] == '0':\n",
    "                row[1] = 1\n",
    "        elif '_' not in row[0] and row[1] == '1':\n",
    "            row[1] = 0\n",
    "        updated_rows.append(row)\n",
    "with open(f'{input_path}updated_AOCR2024_test_results.csv', mode='w', newline='') as file:\n",
    "    writer = csv.writer(file)\n",
    "    writer.writerows(updated_rows)\n",
    "\n"
   ]
  },
  {
   "cell_type": "code",
   "execution_count": 2,
   "metadata": {},
   "outputs": [],
   "source": [
    "prefixes_with_label_1 = set()\n",
    "with open(f'{input_path}updated_AOCR2024_test_results.csv', mode='r', newline='') as file:\n",
    "    reader = csv.reader(file)\n",
    "    for row in reader:\n",
    "        img_name = row[0]\n",
    "        label = row[1]\n",
    "        if '_' in img_name and label == '1':\n",
    "            prefix = img_name.split('_')[0]\n",
    "            prefixes_with_label_1.add(prefix)\n",
    "updated_rows = []\n",
    "with open(f'{input_path}updated_AOCR2024_test_results.csv', mode='r', newline='') as file:\n",
    "    reader = csv.reader(file)\n",
    "    for row in reader:\n",
    "        img_name = row[0]\n",
    "        prefix = img_name.split('_')[0]\n",
    "        if prefix in prefixes_with_label_1 and '_' not in img_name:\n",
    "            # print(row)\n",
    "            row[1] = '1'\n",
    "        updated_rows.append(row)\n",
    "        \n",
    "with open(f'{input_path}Final_updated_AOCR2024_test_results.csv', mode='w', newline='') as file:\n",
    "    writer = csv.writer(file)\n",
    "    writer.writerows(updated_rows)"
   ]
  },
  {
   "cell_type": "code",
   "execution_count": null,
   "metadata": {},
   "outputs": [],
   "source": []
  },
  {
   "cell_type": "markdown",
   "metadata": {},
   "source": [
    "### Check ratio"
   ]
  },
  {
   "cell_type": "code",
   "execution_count": 3,
   "metadata": {},
   "outputs": [
    {
     "name": "stdout",
     "output_type": "stream",
     "text": [
      "187 13\n"
     ]
    }
   ],
   "source": [
    "with open(f'{input_path}Final_updated_AOCR2024_test_results.csv', mode='r', newline='') as file:\n",
    "    reader = csv.reader(file)\n",
    "    po, ne = 0, 0\n",
    "    for row in reader:\n",
    "        if '_' not in row[0] and row[1] == '1':\n",
    "            po += 1\n",
    "        elif '_' not in row[0] and row[1] == '0':\n",
    "            ne += 1\n",
    "    print(po, ne)"
   ]
  },
  {
   "cell_type": "code",
   "execution_count": null,
   "metadata": {},
   "outputs": [],
   "source": []
  }
 ],
 "metadata": {
  "kernelspec": {
   "display_name": "base",
   "language": "python",
   "name": "python3"
  },
  "language_info": {
   "codemirror_mode": {
    "name": "ipython",
    "version": 3
   },
   "file_extension": ".py",
   "mimetype": "text/x-python",
   "name": "python",
   "nbconvert_exporter": "python",
   "pygments_lexer": "ipython3",
   "version": "3.9.18"
  }
 },
 "nbformat": 4,
 "nbformat_minor": 2
}
